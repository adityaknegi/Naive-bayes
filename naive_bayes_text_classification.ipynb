{
 "cells": [
  {
   "cell_type": "code",
   "execution_count": 1,
   "metadata": {},
   "outputs": [],
   "source": [
    "import numpy as np\n",
    "import pandas as pd\n",
    "from pprint import pprint"
   ]
  },
  {
   "cell_type": "code",
   "execution_count": 2,
   "metadata": {},
   "outputs": [],
   "source": [
    "Doc = { 'Text':{1:'A great game',2:'The election was over',\n",
    "                3:'Very clean match',4:'A clean but forgettable game',5:'it was close election',},\n",
    "       'Tag':{1:'Sports',2:'Not Sports',3:'Sports',4:'Sports',5:'Not Sports'}\n",
    "     \n",
    "}"
   ]
  },
  {
   "cell_type": "code",
   "execution_count": 3,
   "metadata": {},
   "outputs": [
    {
     "data": {
      "text/html": [
       "<div>\n",
       "<style scoped>\n",
       "    .dataframe tbody tr th:only-of-type {\n",
       "        vertical-align: middle;\n",
       "    }\n",
       "\n",
       "    .dataframe tbody tr th {\n",
       "        vertical-align: top;\n",
       "    }\n",
       "\n",
       "    .dataframe thead th {\n",
       "        text-align: right;\n",
       "    }\n",
       "</style>\n",
       "<table border=\"1\" class=\"dataframe\">\n",
       "  <thead>\n",
       "    <tr style=\"text-align: right;\">\n",
       "      <th></th>\n",
       "      <th>Text</th>\n",
       "      <th>Tag</th>\n",
       "    </tr>\n",
       "  </thead>\n",
       "  <tbody>\n",
       "    <tr>\n",
       "      <th>1</th>\n",
       "      <td>A great game</td>\n",
       "      <td>Sports</td>\n",
       "    </tr>\n",
       "    <tr>\n",
       "      <th>2</th>\n",
       "      <td>The election was over</td>\n",
       "      <td>Not Sports</td>\n",
       "    </tr>\n",
       "    <tr>\n",
       "      <th>3</th>\n",
       "      <td>Very clean match</td>\n",
       "      <td>Sports</td>\n",
       "    </tr>\n",
       "    <tr>\n",
       "      <th>4</th>\n",
       "      <td>A clean but forgettable game</td>\n",
       "      <td>Sports</td>\n",
       "    </tr>\n",
       "    <tr>\n",
       "      <th>5</th>\n",
       "      <td>it was close election</td>\n",
       "      <td>Not Sports</td>\n",
       "    </tr>\n",
       "  </tbody>\n",
       "</table>\n",
       "</div>"
      ],
      "text/plain": [
       "                           Text         Tag\n",
       "1                  A great game      Sports\n",
       "2         The election was over  Not Sports\n",
       "3              Very clean match      Sports\n",
       "4  A clean but forgettable game      Sports\n",
       "5         it was close election  Not Sports"
      ]
     },
     "execution_count": 3,
     "metadata": {},
     "output_type": "execute_result"
    }
   ],
   "source": [
    "train=pd.DataFrame(Doc,columns=['Text','Tag'])\n",
    "train.head()"
   ]
  },
  {
   "cell_type": "code",
   "execution_count": 4,
   "metadata": {},
   "outputs": [],
   "source": [
    "stop_word=['ourselves', 'hers', 'between', 'yourself', 'but', 'again', 'there', 'about', 'once', 'during',\n",
    "'out', 'very', 'having', 'with', 'they', 'own', 'an', 'be', 'some', 'for', 'do', 'its', 'yours', 'such',\n",
    "'into', 'of', 'most', 'itself', 'other', 'off', 'is', 's', 'am', 'or', 'who', 'as', 'from', 'him', 'each',\n",
    "'the', 'themselves', 'until', 'below', 'are', 'we', 'these', 'your', 'his', 'through', 'don', 'nor',\n",
    "'me', 'were', 'her', 'more', 'himself', 'this', 'down', 'should', 'our', 'their', 'while', 'above',\n",
    "'both', 'up', 'to', 'ours', 'had', 'she', 'all', 'no', 'when', 'at', 'any', 'before', 'them', 'same',\n",
    "'and', 'been', 'have', 'in', 'will', 'on', 'does', 'yourselves', 'then', 'that', 'because', 'what',\n",
    "'over', 'why', 'so', 'can', 'did', 'not', 'now', 'under', 'he', 'you', 'herself', 'has', 'just',\n",
    "'where', 'too', 'only', 'myself', 'which', 'those', 'i', 'after', 'few', 'whom', 't', 'being', 'if',\n",
    "'theirs', 'my', 'against', 'a', 'by', 'doing', 'it', 'how', 'further', 'was', 'here', 'than']"
   ]
  },
  {
   "cell_type": "code",
   "execution_count": 5,
   "metadata": {},
   "outputs": [],
   "source": [
    "#  stop words in lower later\n",
    "stop_word=[stop_word_i.lower() for stop_word_i in  stop_word]"
   ]
  },
  {
   "cell_type": "markdown",
   "metadata": {},
   "source": [
    "## vocabulary and Frequency dictionary\n"
   ]
  },
  {
   "cell_type": "code",
   "execution_count": 6,
   "metadata": {},
   "outputs": [
    {
     "name": "stdout",
     "output_type": "stream",
     "text": [
      "{'A': {'Not Sports': 0, 'Sports': 2},\n",
      " 'The': {'Not Sports': 1, 'Sports': 0},\n",
      " 'Very': {'Not Sports': 0, 'Sports': 1},\n",
      " 'but': {'Not Sports': 0, 'Sports': 1},\n",
      " 'clean': {'Not Sports': 0, 'Sports': 2},\n",
      " 'close': {'Not Sports': 1, 'Sports': 0},\n",
      " 'election': {'Not Sports': 2, 'Sports': 0},\n",
      " 'forgettable': {'Not Sports': 0, 'Sports': 1},\n",
      " 'game': {'Not Sports': 0, 'Sports': 2},\n",
      " 'great': {'Not Sports': 0, 'Sports': 1},\n",
      " 'it': {'Not Sports': 1, 'Sports': 0},\n",
      " 'match': {'Not Sports': 0, 'Sports': 1},\n",
      " 'over': {'Not Sports': 1, 'Sports': 0},\n",
      " 'was': {'Not Sports': 2, 'Sports': 0}}\n"
     ]
    }
   ],
   "source": [
    "count_frequency ={}\n",
    "target = train[train.columns[-1]]\n",
    "count_class =target.unique()\n",
    "for index_i in range(len(train)):\n",
    "    target_class = target.loc[index_i+1]\n",
    "    for word in  train.loc[index_i+1]['Text'].split():\n",
    "        try:\n",
    "            # if word exits count increments\n",
    "            count_frequency[word][target_class]+=1\n",
    "        except:\n",
    "                # if word not exit creat new key with subkey with class \n",
    "                temp_dict = {}\n",
    "                for class_i in count_class:\n",
    "                    temp_dict[class_i]=0\n",
    "                count_frequency[word]= temp_dict\n",
    "                # count for target_class first time \n",
    "                count_frequency[word][target_class]=1\n",
    "pprint(count_frequency)"
   ]
  },
  {
   "cell_type": "markdown",
   "metadata": {},
   "source": [
    "## remove stop words"
   ]
  },
  {
   "cell_type": "code",
   "execution_count": 8,
   "metadata": {},
   "outputs": [],
   "source": [
    "def check_stop_word(sentence):\n",
    "    new_sentence=''\n",
    "    for word_i in sentence.split(' '):\n",
    "        if word_i.lower() not in stop_word: new_sentence +=word_i+' '\n",
    "    \n",
    "    return new_sentence"
   ]
  },
  {
   "cell_type": "markdown",
   "metadata": {},
   "source": [
    "## Frequency table"
   ]
  },
  {
   "cell_type": "code",
   "execution_count": 9,
   "metadata": {},
   "outputs": [],
   "source": [
    "def frequency__count(train):\n",
    "    count_frequency ={}\n",
    "    col_name ='Text'\n",
    "    target = train[train.columns[-1]]\n",
    "    count_class =target.unique()\n",
    "    \n",
    "    for index_i in range(len(train)):\n",
    "        target_class = target.loc[index_i+1]\n",
    "        new_sentence = check_stop_word(train.loc[index_i+1][self.col_name])\n",
    "        if new_sentence is None:\n",
    "            continue\n",
    "        for word in  new_sentence.split():\n",
    "            try:\n",
    "                # if word exits count increments\n",
    "                count_frequency[word][target_class]+=1\n",
    "            except:\n",
    "                    # if word not exit creat new key with subkey with class \n",
    "                    temp_dict = {}\n",
    "                    for class_i in count_class:\n",
    "                        temp_dict[class_i]=0\n",
    "                    count_frequency[word]= temp_dict\n",
    "                    # count for target_class first time \n",
    "                    count_frequency[word][target_class]=1\n",
    "    return count_frequency\n"
   ]
  },
  {
   "cell_type": "code",
   "execution_count": 12,
   "metadata": {},
   "outputs": [
    {
     "ename": "NameError",
     "evalue": "name 'self' is not defined",
     "output_type": "error",
     "traceback": [
      "\u001b[0;31m---------------------------------------------------------------------------\u001b[0m",
      "\u001b[0;31mNameError\u001b[0m                                 Traceback (most recent call last)",
      "\u001b[0;32m<ipython-input-12-23c30a511693>\u001b[0m in \u001b[0;36m<module>\u001b[0;34m()\u001b[0m\n\u001b[0;32m----> 1\u001b[0;31m \u001b[0mfrequency__count\u001b[0m\u001b[0;34m(\u001b[0m\u001b[0mtrain\u001b[0m\u001b[0;34m)\u001b[0m\u001b[0;34m\u001b[0m\u001b[0;34m\u001b[0m\u001b[0m\n\u001b[0m",
      "\u001b[0;32m<ipython-input-9-1def1f38a95e>\u001b[0m in \u001b[0;36mfrequency__count\u001b[0;34m(train)\u001b[0m\n\u001b[1;32m      7\u001b[0m     \u001b[0;32mfor\u001b[0m \u001b[0mindex_i\u001b[0m \u001b[0;32min\u001b[0m \u001b[0mrange\u001b[0m\u001b[0;34m(\u001b[0m\u001b[0mlen\u001b[0m\u001b[0;34m(\u001b[0m\u001b[0mtrain\u001b[0m\u001b[0;34m)\u001b[0m\u001b[0;34m)\u001b[0m\u001b[0;34m:\u001b[0m\u001b[0;34m\u001b[0m\u001b[0;34m\u001b[0m\u001b[0m\n\u001b[1;32m      8\u001b[0m         \u001b[0mtarget_class\u001b[0m \u001b[0;34m=\u001b[0m \u001b[0mtarget\u001b[0m\u001b[0;34m.\u001b[0m\u001b[0mloc\u001b[0m\u001b[0;34m[\u001b[0m\u001b[0mindex_i\u001b[0m\u001b[0;34m+\u001b[0m\u001b[0;36m1\u001b[0m\u001b[0;34m]\u001b[0m\u001b[0;34m\u001b[0m\u001b[0;34m\u001b[0m\u001b[0m\n\u001b[0;32m----> 9\u001b[0;31m         \u001b[0mnew_sentence\u001b[0m \u001b[0;34m=\u001b[0m \u001b[0mcheck_stop_word\u001b[0m\u001b[0;34m(\u001b[0m\u001b[0mtrain\u001b[0m\u001b[0;34m.\u001b[0m\u001b[0mloc\u001b[0m\u001b[0;34m[\u001b[0m\u001b[0mindex_i\u001b[0m\u001b[0;34m+\u001b[0m\u001b[0;36m1\u001b[0m\u001b[0;34m]\u001b[0m\u001b[0;34m[\u001b[0m\u001b[0mself\u001b[0m\u001b[0;34m.\u001b[0m\u001b[0mcol_name\u001b[0m\u001b[0;34m]\u001b[0m\u001b[0;34m)\u001b[0m\u001b[0;34m\u001b[0m\u001b[0;34m\u001b[0m\u001b[0m\n\u001b[0m\u001b[1;32m     10\u001b[0m         \u001b[0;32mif\u001b[0m \u001b[0mnew_sentence\u001b[0m \u001b[0;32mis\u001b[0m \u001b[0;32mNone\u001b[0m\u001b[0;34m:\u001b[0m\u001b[0;34m\u001b[0m\u001b[0;34m\u001b[0m\u001b[0m\n\u001b[1;32m     11\u001b[0m             \u001b[0;32mcontinue\u001b[0m\u001b[0;34m\u001b[0m\u001b[0;34m\u001b[0m\u001b[0m\n",
      "\u001b[0;31mNameError\u001b[0m: name 'self' is not defined"
     ]
    }
   ],
   "source": [
    "frequency__count(train)"
   ]
  },
  {
   "cell_type": "code",
   "execution_count": null,
   "metadata": {},
   "outputs": [],
   "source": [
    "## likehood_table"
   ]
  },
  {
   "cell_type": "code",
   "execution_count": null,
   "metadata": {},
   "outputs": [],
   "source": [
    "frequency_table= pd.DataFrame(frequency__count(train))\n",
    "frequency_table=frequency_table.T\n",
    "# Likelihood table\n",
    "B = len(frequency_table)\n",
    "likehood_table=(frequency_table+1)/(frequency_table.sum()+B)\n",
    "likehood_table"
   ]
  },
  {
   "cell_type": "code",
   "execution_count": null,
   "metadata": {},
   "outputs": [],
   "source": [
    "## testing"
   ]
  },
  {
   "cell_type": "code",
   "execution_count": null,
   "metadata": {},
   "outputs": [],
   "source": [
    "def prediction(train):\n",
    "    col_name ='Text'\n",
    "    predict=[]\n",
    "    target = train[train.columns[-1]]\n",
    "    count_class =target.unique()\n",
    "    for sentence in train[col_name]:\n",
    "        p =[]\n",
    "        for class_i in count_class:\n",
    "            new_sentence = check_stop_word(sentence)\n",
    "            total =1\n",
    "            for word in new_sentence.split(' '):\n",
    "                if word is '': break\n",
    "                total=total*likehood_table.loc[word][class_i]\n",
    "            p.append(total)\n",
    "        predict.append(count_class[np.argmax(p)])\n",
    "    return predict\n",
    "    "
   ]
  },
  {
   "cell_type": "code",
   "execution_count": null,
   "metadata": {},
   "outputs": [],
   "source": [
    "prediction(train)"
   ]
  },
  {
   "cell_type": "code",
   "execution_count": null,
   "metadata": {},
   "outputs": [],
   "source": [
    "train"
   ]
  },
  {
   "cell_type": "code",
   "execution_count": 18,
   "metadata": {},
   "outputs": [],
   "source": [
    "class naive_bayes:\n",
    "\n",
    "    \n",
    "    def __init__(self, col_name='Text'):\n",
    "    \n",
    "        self.likehood_table=None\n",
    "        self.target = None\n",
    "        self.count_class =None\n",
    "        self.col_name =col_name\n",
    "\n",
    "    \n",
    "    def fit(self,train):\n",
    "        self.target = train[train.columns[-1]]\n",
    "        self.count_class =self.target.unique()\n",
    "\n",
    "        frequency_table= pd.DataFrame(self.__frequency__count(train))\n",
    "        frequency_table=frequency_table.T\n",
    "        # Likelihood table\n",
    "        B = len(frequency_table)\n",
    "        self.likehood_table=(frequency_table+1)/(frequency_table.sum()+B)\n",
    "        print(self.likehood_table)\n",
    "\n",
    "    def __check_stop_word(self,sentence):\n",
    "        new_sentence=''\n",
    "        for word_i in sentence.split(' '):\n",
    "            if word_i.lower() not in stop_word: new_sentence +=word_i+' '\n",
    "\n",
    "        return new_sentence\n",
    "\n",
    "    def __frequency__count(self,train):\n",
    "        count_frequency ={}        \n",
    "        for index_i in range(len(train)):\n",
    "            target_class = self.target.loc[index_i+1]\n",
    "            new_sentence = self.__check_stop_word(train.loc[index_i+1][self.col_name])\n",
    "            if new_sentence is None:\n",
    "                continue\n",
    "            for word in  new_sentence.split():\n",
    "                try:\n",
    "                    # if word exits count increments\n",
    "                    count_frequency[word][target_class]+=1\n",
    "                except:\n",
    "                        # if word not exit creat new key with subkey with class \n",
    "                        temp_dict = {}\n",
    "                        for class_i in self.count_class:\n",
    "                            temp_dict[class_i]=0\n",
    "                        count_frequency[word]= temp_dict\n",
    "                        # count for target_class first time \n",
    "                        count_frequency[word][target_class]=1\n",
    "        return count_frequency\n",
    "    \n",
    "    def prediction(self,train):\n",
    "        predict=[]\n",
    "        for sentence in train[self.col_name]:\n",
    "            p =[]\n",
    "            for class_i in self.count_class:\n",
    "                new_sentence = self.__check_stop_word(sentence)\n",
    "                total =1\n",
    "                for word in new_sentence.split(' '):\n",
    "                    if word is '': break\n",
    "                    total=total*self.likehood_table.loc[word][class_i]\n",
    "                p.append(total)\n",
    "            predict.append(self.count_class[np.argmax(p)])\n",
    "        return predict\n",
    "\n",
    "\n",
    "\n",
    "    "
   ]
  },
  {
   "cell_type": "code",
   "execution_count": 19,
   "metadata": {},
   "outputs": [
    {
     "name": "stdout",
     "output_type": "stream",
     "text": [
      "             Not Sports    Sports\n",
      "clean               0.1  0.214286\n",
      "close               0.2  0.071429\n",
      "election            0.3  0.071429\n",
      "forgettable         0.1  0.142857\n",
      "game                0.1  0.214286\n",
      "great               0.1  0.142857\n",
      "match               0.1  0.142857\n"
     ]
    },
    {
     "data": {
      "text/plain": [
       "['Sports', 'Not Sports', 'Sports', 'Sports', 'Not Sports']"
      ]
     },
     "execution_count": 19,
     "metadata": {},
     "output_type": "execute_result"
    }
   ],
   "source": [
    "model=naive_bayes()\n",
    "model.fit(train)\n",
    "model.prediction(train)"
   ]
  },
  {
   "cell_type": "code",
   "execution_count": null,
   "metadata": {},
   "outputs": [],
   "source": [
    "train"
   ]
  },
  {
   "cell_type": "code",
   "execution_count": null,
   "metadata": {},
   "outputs": [],
   "source": []
  },
  {
   "cell_type": "code",
   "execution_count": null,
   "metadata": {},
   "outputs": [],
   "source": []
  },
  {
   "cell_type": "code",
   "execution_count": null,
   "metadata": {},
   "outputs": [],
   "source": []
  }
 ],
 "metadata": {
  "kernelspec": {
   "display_name": "Python 3",
   "language": "python",
   "name": "python3"
  },
  "language_info": {
   "codemirror_mode": {
    "name": "ipython",
    "version": 3
   },
   "file_extension": ".py",
   "mimetype": "text/x-python",
   "name": "python",
   "nbconvert_exporter": "python",
   "pygments_lexer": "ipython3",
   "version": "3.6.8"
  }
 },
 "nbformat": 4,
 "nbformat_minor": 2
}
